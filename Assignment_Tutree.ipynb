{
  "nbformat": 4,
  "nbformat_minor": 0,
  "metadata": {
    "colab": {
      "name": "Assignment Tutree",
      "provenance": [],
      "authorship_tag": "ABX9TyMwTy9NLt2FNRkhG/KPEYOA",
      "include_colab_link": true
    },
    "kernelspec": {
      "name": "python3",
      "display_name": "Python 3"
    }
  },
  "cells": [
    {
      "cell_type": "markdown",
      "metadata": {
        "id": "view-in-github",
        "colab_type": "text"
      },
      "source": [
        "<a href=\"https://colab.research.google.com/github/NikitaSonawane-20/Nikita-Sonawane/blob/master/Assignment_Tutree.ipynb\" target=\"_parent\"><img src=\"https://colab.research.google.com/assets/colab-badge.svg\" alt=\"Open In Colab\"/></a>"
      ]
    },
    {
      "cell_type": "markdown",
      "metadata": {
        "id": "8cNlscvCVK5T"
      },
      "source": [
        "**Name**: **Nikita** **Sonawane**"
      ]
    },
    {
      "cell_type": "markdown",
      "metadata": {
        "id": "pPlI1UdRZ7uq"
      },
      "source": [
        "Question: How can you handle duplicate values in a dataset for a variable in Python using pandas?"
      ]
    },
    {
      "cell_type": "markdown",
      "metadata": {
        "id": "pp8EgcJ_Vrd3"
      },
      "source": [
        "**Identifying** **and** **removing** **duplicate** **rows**"
      ]
    },
    {
      "cell_type": "code",
      "metadata": {
        "id": "KZNYhv0LVNNq"
      },
      "source": [
        "# Import pandas \n",
        "import pandas as pd"
      ],
      "execution_count": null,
      "outputs": []
    },
    {
      "cell_type": "code",
      "metadata": {
        "id": "uklWR2zYVHyN"
      },
      "source": [
        "# Suppose we have given the following dataset 'file.csv'\n",
        "df = pd.read_csv('file.csv')"
      ],
      "execution_count": null,
      "outputs": []
    },
    {
      "cell_type": "code",
      "metadata": {
        "id": "vfw9gzbTWolo"
      },
      "source": [
        "# To identify duplicated values\n",
        "df.duplicated()"
      ],
      "execution_count": null,
      "outputs": []
    },
    {
      "cell_type": "markdown",
      "metadata": {
        "id": "0vNWcTdCXEWE"
      },
      "source": [
        "Above code gives us boolean values (True: 1 and False: 0).\n",
        "It gives True,if there are duplicated values in the dataset,otherwise False."
      ]
    },
    {
      "cell_type": "code",
      "metadata": {
        "id": "pccNHl9ZXxsf"
      },
      "source": [
        "# How many duplicated rows in the dataset?\n",
        "df.duplicated().sum()"
      ],
      "execution_count": null,
      "outputs": []
    },
    {
      "cell_type": "code",
      "metadata": {
        "id": "j3Xai0yTaqTh"
      },
      "source": [
        "# How many duplicated values in a specific column?\n",
        "df['column'].duplicated().sum()"
      ],
      "execution_count": null,
      "outputs": []
    },
    {
      "cell_type": "code",
      "metadata": {
        "id": "Xe_U3FubZI_s"
      },
      "source": [
        "# To drop all duplicated values\n",
        "df.drop_duplicates()"
      ],
      "execution_count": null,
      "outputs": []
    },
    {
      "cell_type": "code",
      "metadata": {
        "id": "8NES7qlKcEyA"
      },
      "source": [
        "# To drop duplicated specific column\n",
        "df['column'].drop_duplicated()"
      ],
      "execution_count": null,
      "outputs": []
    }
  ]
}