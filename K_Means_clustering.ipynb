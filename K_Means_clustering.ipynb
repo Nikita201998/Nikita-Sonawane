{
  "nbformat": 4,
  "nbformat_minor": 0,
  "metadata": {
    "colab": {
      "name": " K-Means clustering.ipynb",
      "provenance": [],
      "collapsed_sections": [],
      "authorship_tag": "ABX9TyPKViLLicJffEbIWjztE9pG"
    },
    "kernelspec": {
      "name": "python3",
      "display_name": "Python 3"
    }
  },
  "cells": [
    {
      "cell_type": "markdown",
      "metadata": {
        "id": "FYDpioB1-Efs",
        "colab_type": "text"
      },
      "source": [
        "# Graduate Rotational Internship Program"
      ]
    },
    {
      "cell_type": "markdown",
      "metadata": {
        "id": "OVwo7xfAOONo",
        "colab_type": "text"
      },
      "source": [
        "**Task-3      \n",
        "To Explore Unsupervised Machine Learning**"
      ]
    },
    {
      "cell_type": "markdown",
      "metadata": {
        "id": "KYEYeElOjBaf",
        "colab_type": "text"
      },
      "source": [
        "**K-Means Clustering**"
      ]
    },
    {
      "cell_type": "markdown",
      "metadata": {
        "id": "ej5BOdVwh6zp",
        "colab_type": "text"
      },
      "source": [
        "From the given ‘Iris’ dataset, predict the optimum number of\n",
        "clusters and represent it visually."
      ]
    },
    {
      "cell_type": "markdown",
      "metadata": {
        "id": "EEFx-pJ-Ouef",
        "colab_type": "text"
      },
      "source": [
        "**Import required libraries**"
      ]
    },
    {
      "cell_type": "code",
      "metadata": {
        "id": "HMEouWmY-HSu",
        "colab_type": "code",
        "colab": {}
      },
      "source": [
        "## import required libraries\n",
        "import pandas as pd\n",
        "import matplotlib.pyplot as plt\n",
        "import seaborn as sns\n",
        "from sklearn import datasets"
      ],
      "execution_count": null,
      "outputs": []
    },
    {
      "cell_type": "markdown",
      "metadata": {
        "id": "uAVC3cJSO2Ke",
        "colab_type": "text"
      },
      "source": [
        "**Loading the iris dataset**"
      ]
    },
    {
      "cell_type": "code",
      "metadata": {
        "id": "DfZTZxI2-q1J",
        "colab_type": "code",
        "colab": {
          "base_uri": "https://localhost:8080/",
          "height": 198
        },
        "outputId": "1663503a-0bc3-4170-81fd-1b6c08381da3"
      },
      "source": [
        "# Loading the iris dataset\n",
        "iris=datasets.load_iris()\n",
        "\n",
        "# Forming the iris dataframe\n",
        "df=pd.DataFrame(iris.data, columns=iris.feature_names)\n",
        "df.head()"
      ],
      "execution_count": null,
      "outputs": [
        {
          "output_type": "execute_result",
          "data": {
            "text/html": [
              "<div>\n",
              "<style scoped>\n",
              "    .dataframe tbody tr th:only-of-type {\n",
              "        vertical-align: middle;\n",
              "    }\n",
              "\n",
              "    .dataframe tbody tr th {\n",
              "        vertical-align: top;\n",
              "    }\n",
              "\n",
              "    .dataframe thead th {\n",
              "        text-align: right;\n",
              "    }\n",
              "</style>\n",
              "<table border=\"1\" class=\"dataframe\">\n",
              "  <thead>\n",
              "    <tr style=\"text-align: right;\">\n",
              "      <th></th>\n",
              "      <th>sepal length (cm)</th>\n",
              "      <th>sepal width (cm)</th>\n",
              "      <th>petal length (cm)</th>\n",
              "      <th>petal width (cm)</th>\n",
              "    </tr>\n",
              "  </thead>\n",
              "  <tbody>\n",
              "    <tr>\n",
              "      <th>0</th>\n",
              "      <td>5.1</td>\n",
              "      <td>3.5</td>\n",
              "      <td>1.4</td>\n",
              "      <td>0.2</td>\n",
              "    </tr>\n",
              "    <tr>\n",
              "      <th>1</th>\n",
              "      <td>4.9</td>\n",
              "      <td>3.0</td>\n",
              "      <td>1.4</td>\n",
              "      <td>0.2</td>\n",
              "    </tr>\n",
              "    <tr>\n",
              "      <th>2</th>\n",
              "      <td>4.7</td>\n",
              "      <td>3.2</td>\n",
              "      <td>1.3</td>\n",
              "      <td>0.2</td>\n",
              "    </tr>\n",
              "    <tr>\n",
              "      <th>3</th>\n",
              "      <td>4.6</td>\n",
              "      <td>3.1</td>\n",
              "      <td>1.5</td>\n",
              "      <td>0.2</td>\n",
              "    </tr>\n",
              "    <tr>\n",
              "      <th>4</th>\n",
              "      <td>5.0</td>\n",
              "      <td>3.6</td>\n",
              "      <td>1.4</td>\n",
              "      <td>0.2</td>\n",
              "    </tr>\n",
              "  </tbody>\n",
              "</table>\n",
              "</div>"
            ],
            "text/plain": [
              "   sepal length (cm)  sepal width (cm)  petal length (cm)  petal width (cm)\n",
              "0                5.1               3.5                1.4               0.2\n",
              "1                4.9               3.0                1.4               0.2\n",
              "2                4.7               3.2                1.3               0.2\n",
              "3                4.6               3.1                1.5               0.2\n",
              "4                5.0               3.6                1.4               0.2"
            ]
          },
          "metadata": {
            "tags": []
          },
          "execution_count": 69
        }
      ]
    },
    {
      "cell_type": "markdown",
      "metadata": {
        "id": "1NBhRSrDSxgf",
        "colab_type": "text"
      },
      "source": [
        "# **Exploring the data**"
      ]
    },
    {
      "cell_type": "code",
      "metadata": {
        "id": "IBCekG6RTIuL",
        "colab_type": "code",
        "colab": {
          "base_uri": "https://localhost:8080/",
          "height": 35
        },
        "outputId": "be2e3ab6-cb93-4da0-bf38-5a03d31141f5"
      },
      "source": [
        "# Shape of dataset\n",
        "print('Shape of data: ',df.shape)"
      ],
      "execution_count": null,
      "outputs": [
        {
          "output_type": "stream",
          "text": [
            "Shape of data:  (150, 4)\n"
          ],
          "name": "stdout"
        }
      ]
    },
    {
      "cell_type": "markdown",
      "metadata": {
        "id": "RnkzkMQfVikK",
        "colab_type": "text"
      },
      "source": [
        "This dataset consists of 150 rows and 4 columns."
      ]
    },
    {
      "cell_type": "markdown",
      "metadata": {
        "id": "7HLKDfBLTp10",
        "colab_type": "text"
      },
      "source": [
        "**Statistical Summary**"
      ]
    },
    {
      "cell_type": "code",
      "metadata": {
        "id": "bJwhXPuBTi8A",
        "colab_type": "code",
        "colab": {
          "base_uri": "https://localhost:8080/",
          "height": 288
        },
        "outputId": "1eb49458-8450-4174-9713-129eaa51d995"
      },
      "source": [
        "# Describe the data\n",
        "df.describe()"
      ],
      "execution_count": null,
      "outputs": [
        {
          "output_type": "execute_result",
          "data": {
            "text/html": [
              "<div>\n",
              "<style scoped>\n",
              "    .dataframe tbody tr th:only-of-type {\n",
              "        vertical-align: middle;\n",
              "    }\n",
              "\n",
              "    .dataframe tbody tr th {\n",
              "        vertical-align: top;\n",
              "    }\n",
              "\n",
              "    .dataframe thead th {\n",
              "        text-align: right;\n",
              "    }\n",
              "</style>\n",
              "<table border=\"1\" class=\"dataframe\">\n",
              "  <thead>\n",
              "    <tr style=\"text-align: right;\">\n",
              "      <th></th>\n",
              "      <th>sepal length (cm)</th>\n",
              "      <th>sepal width (cm)</th>\n",
              "      <th>petal length (cm)</th>\n",
              "      <th>petal width (cm)</th>\n",
              "    </tr>\n",
              "  </thead>\n",
              "  <tbody>\n",
              "    <tr>\n",
              "      <th>count</th>\n",
              "      <td>150.000000</td>\n",
              "      <td>150.000000</td>\n",
              "      <td>150.000000</td>\n",
              "      <td>150.000000</td>\n",
              "    </tr>\n",
              "    <tr>\n",
              "      <th>mean</th>\n",
              "      <td>5.843333</td>\n",
              "      <td>3.057333</td>\n",
              "      <td>3.758000</td>\n",
              "      <td>1.199333</td>\n",
              "    </tr>\n",
              "    <tr>\n",
              "      <th>std</th>\n",
              "      <td>0.828066</td>\n",
              "      <td>0.435866</td>\n",
              "      <td>1.765298</td>\n",
              "      <td>0.762238</td>\n",
              "    </tr>\n",
              "    <tr>\n",
              "      <th>min</th>\n",
              "      <td>4.300000</td>\n",
              "      <td>2.000000</td>\n",
              "      <td>1.000000</td>\n",
              "      <td>0.100000</td>\n",
              "    </tr>\n",
              "    <tr>\n",
              "      <th>25%</th>\n",
              "      <td>5.100000</td>\n",
              "      <td>2.800000</td>\n",
              "      <td>1.600000</td>\n",
              "      <td>0.300000</td>\n",
              "    </tr>\n",
              "    <tr>\n",
              "      <th>50%</th>\n",
              "      <td>5.800000</td>\n",
              "      <td>3.000000</td>\n",
              "      <td>4.350000</td>\n",
              "      <td>1.300000</td>\n",
              "    </tr>\n",
              "    <tr>\n",
              "      <th>75%</th>\n",
              "      <td>6.400000</td>\n",
              "      <td>3.300000</td>\n",
              "      <td>5.100000</td>\n",
              "      <td>1.800000</td>\n",
              "    </tr>\n",
              "    <tr>\n",
              "      <th>max</th>\n",
              "      <td>7.900000</td>\n",
              "      <td>4.400000</td>\n",
              "      <td>6.900000</td>\n",
              "      <td>2.500000</td>\n",
              "    </tr>\n",
              "  </tbody>\n",
              "</table>\n",
              "</div>"
            ],
            "text/plain": [
              "       sepal length (cm)  sepal width (cm)  petal length (cm)  petal width (cm)\n",
              "count         150.000000        150.000000         150.000000        150.000000\n",
              "mean            5.843333          3.057333           3.758000          1.199333\n",
              "std             0.828066          0.435866           1.765298          0.762238\n",
              "min             4.300000          2.000000           1.000000          0.100000\n",
              "25%             5.100000          2.800000           1.600000          0.300000\n",
              "50%             5.800000          3.000000           4.350000          1.300000\n",
              "75%             6.400000          3.300000           5.100000          1.800000\n",
              "max             7.900000          4.400000           6.900000          2.500000"
            ]
          },
          "metadata": {
            "tags": []
          },
          "execution_count": 71
        }
      ]
    },
    {
      "cell_type": "markdown",
      "metadata": {
        "id": "DD9tEqIAWR9F",
        "colab_type": "text"
      },
      "source": [
        "By describing data,we can find overall mean,percentiles,standard deviations,minimum and maximum of each feature."
      ]
    },
    {
      "cell_type": "code",
      "metadata": {
        "id": "i5oCBtRfVIqz",
        "colab_type": "code",
        "colab": {
          "base_uri": "https://localhost:8080/",
          "height": 217
        },
        "outputId": "7d39dd90-57f0-4b57-a1fd-eed5b0a147f5"
      },
      "source": [
        "# Information of the data\n",
        "df.info()"
      ],
      "execution_count": null,
      "outputs": [
        {
          "output_type": "stream",
          "text": [
            "<class 'pandas.core.frame.DataFrame'>\n",
            "RangeIndex: 150 entries, 0 to 149\n",
            "Data columns (total 4 columns):\n",
            " #   Column             Non-Null Count  Dtype  \n",
            "---  ------             --------------  -----  \n",
            " 0   sepal length (cm)  150 non-null    float64\n",
            " 1   sepal width (cm)   150 non-null    float64\n",
            " 2   petal length (cm)  150 non-null    float64\n",
            " 3   petal width (cm)   150 non-null    float64\n",
            "dtypes: float64(4)\n",
            "memory usage: 4.8 KB\n"
          ],
          "name": "stdout"
        }
      ]
    },
    {
      "cell_type": "markdown",
      "metadata": {
        "id": "gUWgb0D_VRZ8",
        "colab_type": "text"
      },
      "source": [
        "From above information, we can say that there are no missing values."
      ]
    },
    {
      "cell_type": "markdown",
      "metadata": {
        "id": "YBzw-xunUCi9",
        "colab_type": "text"
      },
      "source": [
        "**Data Visualization**"
      ]
    },
    {
      "cell_type": "code",
      "metadata": {
        "id": "iQHoRYjiZECS",
        "colab_type": "code",
        "colab": {
          "base_uri": "https://localhost:8080/",
          "height": 294
        },
        "outputId": "20cc2879-6d03-44e4-82df-cc9b31252021"
      },
      "source": [
        "# Box and Whisker plots\n",
        "df.plot(kind='box',subplots=True,layout=(2,2),title='Box and Whisker plots for each variable in iris flower dataset')\n",
        "plt.show()"
      ],
      "execution_count": null,
      "outputs": [
        {
          "output_type": "display_data",
          "data": {
            "image/png": "[encoded data removed]",
            "text/plain": [
              "<Figure size 432x288 with 4 Axes>"
            ]
          },
          "metadata": {
            "tags": [],
            "needs_background": "light"
          }
        }
      ]
    },
    {
      "cell_type": "code",
      "metadata": {
        "id": "YEd0Jw6pbZbI",
        "colab_type": "code",
        "colab": {
          "base_uri": "https://localhost:8080/",
          "height": 475
        },
        "outputId": "9d08e2d8-7256-482d-f0ef-8ea9c4ccca58"
      },
      "source": [
        "import seaborn as sns\n",
        "sns.pairplot(df,height=1.5)"
      ],
      "execution_count": null,
      "outputs": [
        {
          "output_type": "execute_result",
          "data": {
            "text/plain": [
              "<seaborn.axisgrid.PairGrid at 0x7eff68a2cc88>"
            ]
          },
          "metadata": {
            "tags": []
          },
          "execution_count": 74
        },
        {
          "output_type": "display_data",
          "data": {
            "image/png": "[encoded data removed]",
            "text/plain": [
              "<Figure size 432x432 with 20 Axes>"
            ]
          },
          "metadata": {
            "tags": [],
            "needs_background": "light"
          }
        }
      ]
    },
    {
      "cell_type": "markdown",
      "metadata": {
        "id": "tovVNOZAPEDY",
        "colab_type": "text"
      },
      "source": [
        "Seperate dataset into dependent and independent variable"
      ]
    },
    {
      "cell_type": "code",
      "metadata": {
        "id": "2JT64DQG-xYL",
        "colab_type": "code",
        "colab": {}
      },
      "source": [
        "array=df.values\n",
        "X=array[ :,[0,1,2,3]]\n",
        "y=iris.target"
      ],
      "execution_count": null,
      "outputs": []
    },
    {
      "cell_type": "markdown",
      "metadata": {
        "id": "m-d8EYjJNHtf",
        "colab_type": "text"
      },
      "source": [
        "**To find optimum number of clusters,we use elbow method.**"
      ]
    },
    {
      "cell_type": "code",
      "metadata": {
        "id": "-WZTSZuC-4K6",
        "colab_type": "code",
        "colab": {
          "base_uri": "https://localhost:8080/",
          "height": 295
        },
        "outputId": "02e5821a-af06-4b29-be3e-4d246be338ae"
      },
      "source": [
        "# To find optimal number of clusters,we use elbow method\n",
        "from sklearn.cluster import KMeans\n",
        "wcss = []\n",
        "for i in range(1, 11):\n",
        "  km = KMeans(n_clusters=i,\n",
        "             init='k-means++',\n",
        "            n_init=10,\n",
        "            max_iter=300,\n",
        "           random_state=0)\n",
        "  km.fit(X)\n",
        "  wcss.append(km.inertia_)\n",
        "plt.plot(range(1,11), wcss, marker='o')\n",
        "plt.title('The elbow method')\n",
        "plt.xlabel('Number of clusters')\n",
        "plt.ylabel('Within sum of squares')\n",
        "plt.show()"
      ],
      "execution_count": null,
      "outputs": [
        {
          "output_type": "display_data",
          "data": {
            "image/png": "[encoded data removed]",
            "text/plain": [
              "<Figure size 432x288 with 1 Axes>"
            ]
          },
          "metadata": {
            "tags": [],
            "needs_background": "light"
          }
        }
      ]
    },
    {
      "cell_type": "markdown",
      "metadata": {
        "id": "q704851__jQU",
        "colab_type": "text"
      },
      "source": [
        "As we can see in the above plot, the elbow is located at k=3."
      ]
    },
    {
      "cell_type": "markdown",
      "metadata": {
        "id": "gTN8kHpdSKzB",
        "colab_type": "text"
      },
      "source": [
        "From above plot,optimum cluster count is 3."
      ]
    },
    {
      "cell_type": "markdown",
      "metadata": {
        "id": "PdVswVC7MfpB",
        "colab_type": "text"
      },
      "source": [
        "Now that we have the optimum amount of clusters, we can move on to applying K-means clustering to the Iris dataset.\n",
        "\n"
      ]
    },
    {
      "cell_type": "markdown",
      "metadata": {
        "id": "ECEMgpyAM48x",
        "colab_type": "text"
      },
      "source": [
        "**Creating** **the K-Means Classifier**"
      ]
    },
    {
      "cell_type": "code",
      "metadata": {
        "id": "Q-rjCWsL_mMF",
        "colab_type": "code",
        "colab": {}
      },
      "source": [
        "# Create K-Means classifier\n",
        "km = KMeans(n_clusters=3, init='k-means++',\n",
        "            n_init=10, max_iter=300, random_state=0)\n",
        "\n",
        "#Fitting K-Means clustering to the dataset\n",
        "y_km = km.fit_predict(X)"
      ],
      "execution_count": null,
      "outputs": []
    },
    {
      "cell_type": "markdown",
      "metadata": {
        "id": "G2P9L97SPm4k",
        "colab_type": "text"
      },
      "source": [
        "**Visualizing the clusters**"
      ]
    },
    {
      "cell_type": "code",
      "metadata": {
        "id": "HQ9ajB6w_vkQ",
        "colab_type": "code",
        "colab": {
          "base_uri": "https://localhost:8080/",
          "height": 286
        },
        "outputId": "2d8ebbe3-2104-41d0-8bfb-65b870cf98c7"
      },
      "source": [
        "# Visualize the clusters \n",
        "plt.scatter(X[y_km==0,0], X[y_km==0,1], s=100, c='blue',  label='Iris-Setosa')\n",
        "plt.scatter(X[y_km==1,0], X[y_km==1,1], s=100, c='green', label='Iris-Versicolour')\n",
        "plt.scatter(X[y_km==2,0], X[y_km==2,1], s=100, c='red',label='Iris-Virginica')\n",
        "#Plot the centroids of the clusters\n",
        "plt.scatter(km.cluster_centers_[:,0], km.cluster_centers_[:,1], s=200, marker='o', c='yellow', label='Centroids')\n",
        "plt.legend()\n"
      ],
      "execution_count": null,
      "outputs": [
        {
          "output_type": "execute_result",
          "data": {
            "text/plain": [
              "<matplotlib.legend.Legend at 0x7eff67093b00>"
            ]
          },
          "metadata": {
            "tags": []
          },
          "execution_count": 78
        },
        {
          "output_type": "display_data",
          "data": {
            "image/png": "[encoded data removed]",
            "text/plain": [
              "<Figure size 432x288 with 1 Axes>"
            ]
          },
          "metadata": {
            "tags": [],
            "needs_background": "light"
          }
        }
      ]
    },
    {
      "cell_type": "code",
      "metadata": {
        "id": "sysTlENQA6P_",
        "colab_type": "code",
        "colab": {}
      },
      "source": [
        ""
      ],
      "execution_count": null,
      "outputs": []
    }
  ]
}