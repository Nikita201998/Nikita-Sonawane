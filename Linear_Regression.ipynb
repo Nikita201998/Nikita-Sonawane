{
  "nbformat": 4,
  "nbformat_minor": 0,
  "metadata": {
    "colab": {
      "name": " Linear Regression.ipynb",
      "provenance": [],
      "collapsed_sections": [],
      "authorship_tag": "ABX9TyOqBhsa/jAAtjWCHhGylgzn",
      "include_colab_link": true
    },
    "kernelspec": {
      "name": "python3",
      "display_name": "Python 3"
    }
  },
  "cells": [
    {
      "cell_type": "markdown",
      "metadata": {
        "id": "view-in-github",
        "colab_type": "text"
      },
      "source": [
        "<a href=\"https://colab.research.google.com/github/Nikita201998/Nikita-Sonawane/blob/master/Linear_Regression.ipynb\" target=\"_parent\"><img src=\"https://colab.research.google.com/assets/colab-badge.svg\" alt=\"Open In Colab\"/></a>"
      ]
    },
    {
      "cell_type": "markdown",
      "metadata": {
        "id": "NzI_pypgZH-p",
        "colab_type": "text"
      },
      "source": [
        "#Graduate Rotational Internship Program \n",
        "#Task-1\n",
        "To explore Supervised Machine Learning \n",
        "                                                                           "
      ]
    },
    {
      "cell_type": "markdown",
      "metadata": {
        "id": "o95P2bw0ao7L",
        "colab_type": "text"
      },
      "source": [
        "**Simple Linear Regression**\n",
        "\n"
      ]
    },
    {
      "cell_type": "markdown",
      "metadata": {
        "id": "7jA0XkORaUlm",
        "colab_type": "text"
      },
      "source": [
        "In this regression task we will predict the percentage of marks that a student is expected to score based upon the number of hours they studied. This is a simple linear regression task as it involves just two variables."
      ]
    },
    {
      "cell_type": "code",
      "metadata": {
        "id": "OdZjSm9nZDUr",
        "colab_type": "code",
        "colab": {}
      },
      "source": [
        "# import required libraries\n",
        "import pandas as pd\n",
        "import numpy as np\n",
        "import matplotlib.pyplot as plt"
      ],
      "execution_count": 1,
      "outputs": []
    },
    {
      "cell_type": "code",
      "metadata": {
        "id": "3rIgDrXAtIHX",
        "colab_type": "code",
        "colab": {
          "base_uri": "https://localhost:8080/",
          "height": 198
        },
        "outputId": "551d1d21-5d6b-46d4-9a9a-3555ad20be70"
      },
      "source": [
        "# Load the dataset\n",
        "df = pd.read_csv(\"http://bit.ly/w-data\")\n",
        "df.head()"
      ],
      "execution_count": 2,
      "outputs": [
        {
          "output_type": "execute_result",
          "data": {
            "text/html": [
              "<div>\n",
              "<style scoped>\n",
              "    .dataframe tbody tr th:only-of-type {\n",
              "        vertical-align: middle;\n",
              "    }\n",
              "\n",
              "    .dataframe tbody tr th {\n",
              "        vertical-align: top;\n",
              "    }\n",
              "\n",
              "    .dataframe thead th {\n",
              "        text-align: right;\n",
              "    }\n",
              "</style>\n",
              "<table border=\"1\" class=\"dataframe\">\n",
              "  <thead>\n",
              "    <tr style=\"text-align: right;\">\n",
              "      <th></th>\n",
              "      <th>Hours</th>\n",
              "      <th>Scores</th>\n",
              "    </tr>\n",
              "  </thead>\n",
              "  <tbody>\n",
              "    <tr>\n",
              "      <th>0</th>\n",
              "      <td>2.5</td>\n",
              "      <td>21</td>\n",
              "    </tr>\n",
              "    <tr>\n",
              "      <th>1</th>\n",
              "      <td>5.1</td>\n",
              "      <td>47</td>\n",
              "    </tr>\n",
              "    <tr>\n",
              "      <th>2</th>\n",
              "      <td>3.2</td>\n",
              "      <td>27</td>\n",
              "    </tr>\n",
              "    <tr>\n",
              "      <th>3</th>\n",
              "      <td>8.5</td>\n",
              "      <td>75</td>\n",
              "    </tr>\n",
              "    <tr>\n",
              "      <th>4</th>\n",
              "      <td>3.5</td>\n",
              "      <td>30</td>\n",
              "    </tr>\n",
              "  </tbody>\n",
              "</table>\n",
              "</div>"
            ],
            "text/plain": [
              "   Hours  Scores\n",
              "0    2.5      21\n",
              "1    5.1      47\n",
              "2    3.2      27\n",
              "3    8.5      75\n",
              "4    3.5      30"
            ]
          },
          "metadata": {
            "tags": []
          },
          "execution_count": 2
        }
      ]
    },
    {
      "cell_type": "markdown",
      "metadata": {
        "id": "CSEc-LJMwzdm",
        "colab_type": "text"
      },
      "source": [
        "To see the relationship between two variables,we plot scatter plot.\n"
      ]
    },
    {
      "cell_type": "code",
      "metadata": {
        "id": "eUfILV-rxbhf",
        "colab_type": "code",
        "colab": {
          "base_uri": "https://localhost:8080/",
          "height": 300
        },
        "outputId": "3a54075e-810c-4917-f0ef-aac7d153efb0"
      },
      "source": [
        "plt.scatter(x=df[\"Hours\"],y=df[\"Scores\"],marker='o')\n",
        "plt.title(\"Hours vs Scores\",fontsize=20)\n",
        "plt.xlabel(\"Study Hours\",fontsize=10)\n",
        "plt.ylabel(\"Scores\",fontsize=10)\n",
        "plt.show()\n"
      ],
      "execution_count": 3,
      "outputs": [
        {
          "output_type": "display_data",
          "data": {
            "image/png": "[encoded data removed]",
            "text/plain": [
              "<Figure size 432x288 with 1 Axes>"
            ]
          },
          "metadata": {
            "tags": [],
            "needs_background": "light"
          }
        }
      ]
    },
    {
      "cell_type": "markdown",
      "metadata": {
        "id": "1LD_VooyyNxX",
        "colab_type": "text"
      },
      "source": [
        "From above graph we can say that there is positive realtionship between Study hours and Scores. As Study hours increases,percentage score of student also increases."
      ]
    },
    {
      "cell_type": "markdown",
      "metadata": {
        "id": "_zyxPitC0O5e",
        "colab_type": "text"
      },
      "source": [
        "**Data Preprocessing**"
      ]
    },
    {
      "cell_type": "code",
      "metadata": {
        "id": "wpo5J0Nc0WT-",
        "colab_type": "code",
        "colab": {}
      },
      "source": [
        "# Divide data into dependent or target variable and independent variable\n",
        "X=df.iloc[:,:-1].values\n",
        "y=df.iloc[:,1].values"
      ],
      "execution_count": 4,
      "outputs": []
    },
    {
      "cell_type": "markdown",
      "metadata": {
        "id": "jolrq_353Nlc",
        "colab_type": "text"
      },
      "source": [
        "**Split dataset into train and test sets**"
      ]
    },
    {
      "cell_type": "code",
      "metadata": {
        "id": "vjOhWAfly4sP",
        "colab_type": "code",
        "colab": {}
      },
      "source": [
        "# Splitting data into train and test set\n",
        "from sklearn.model_selection import train_test_split\n",
        "X_train,X_test,y_train,y_test=train_test_split(X,y,test_size=0.2,random_state=0)"
      ],
      "execution_count": 5,
      "outputs": []
    },
    {
      "cell_type": "markdown",
      "metadata": {
        "id": "JzdWCkAAXG-2",
        "colab_type": "text"
      },
      "source": [
        "Shape of train and test set\n"
      ]
    },
    {
      "cell_type": "code",
      "metadata": {
        "id": "8Cx4KzY5XYc1",
        "colab_type": "code",
        "colab": {
          "base_uri": "https://localhost:8080/",
          "height": 54
        },
        "outputId": "32d91895-98dd-4898-e5ce-f2bd7bdabfe6"
      },
      "source": [
        "print(X_train.shape)\n",
        "print(X_test.shape)"
      ],
      "execution_count": 6,
      "outputs": [
        {
          "output_type": "stream",
          "text": [
            "(20, 1)\n",
            "(5, 1)\n"
          ],
          "name": "stdout"
        }
      ]
    },
    {
      "cell_type": "markdown",
      "metadata": {
        "id": "Hj4_t4rL3vFC",
        "colab_type": "text"
      },
      "source": [
        "After splitting data into training and testing sets,we train the algorithm. "
      ]
    },
    {
      "cell_type": "markdown",
      "metadata": {
        "id": "mBf0UE6-YCAb",
        "colab_type": "text"
      },
      "source": [
        "**Train** **the** **algorithm**"
      ]
    },
    {
      "cell_type": "code",
      "metadata": {
        "id": "jn9Sr0en4FyJ",
        "colab_type": "code",
        "colab": {}
      },
      "source": [
        "# Perform linear regression\n",
        "from sklearn.linear_model import LinearRegression\n",
        "# Create a model and fit it\n",
        "model=LinearRegression()\n",
        "fit=model.fit(X_train,y_train)"
      ],
      "execution_count": 7,
      "outputs": []
    },
    {
      "cell_type": "code",
      "metadata": {
        "id": "vZ3k8WVr6d9u",
        "colab_type": "code",
        "colab": {
          "base_uri": "https://localhost:8080/",
          "height": 54
        },
        "outputId": "b985ffa8-27f4-4cc2-adfd-d5acfec3f507"
      },
      "source": [
        "print('Intercept: ',fit.intercept_)\n",
        "print('Slope: ',fit.coef_)"
      ],
      "execution_count": 8,
      "outputs": [
        {
          "output_type": "stream",
          "text": [
            "Intercept:  2.018160041434662\n",
            "Slope:  [9.91065648]\n"
          ],
          "name": "stdout"
        }
      ]
    },
    {
      "cell_type": "markdown",
      "metadata": {
        "id": "P8Sr1yHDAyaB",
        "colab_type": "text"
      },
      "source": [
        "**Making Prediction**"
      ]
    },
    {
      "cell_type": "markdown",
      "metadata": {
        "id": "mPoMLB767S3q",
        "colab_type": "text"
      },
      "source": [
        "We will use our test data and see how accurately our algorithm predicts the percentage score. To make predictions on the test data,execute the following script:"
      ]
    },
    {
      "cell_type": "code",
      "metadata": {
        "id": "QMfIOMzG-t9u",
        "colab_type": "code",
        "colab": {
          "base_uri": "https://localhost:8080/",
          "height": 35
        },
        "outputId": "7b101351-f6c4-42be-ee08-4d886d47c453"
      },
      "source": [
        "y_pred = model.predict(X_test)\n",
        "print(y_pred)"
      ],
      "execution_count": 10,
      "outputs": [
        {
          "output_type": "stream",
          "text": [
            "[16.88414476 33.73226078 75.357018   26.79480124 60.49103328]\n"
          ],
          "name": "stdout"
        }
      ]
    },
    {
      "cell_type": "markdown",
      "metadata": {
        "id": "jiqDhBYfAOKa",
        "colab_type": "text"
      },
      "source": [
        "Now compare the actual output values for X_test with the predicted values,execute the following script:"
      ]
    },
    {
      "cell_type": "code",
      "metadata": {
        "id": "8_onKoOR_jaP",
        "colab_type": "code",
        "colab": {
          "base_uri": "https://localhost:8080/",
          "height": 198
        },
        "outputId": "5c88415b-8d45-41cf-f2f2-041818b04dd1"
      },
      "source": [
        "data_frame=pd.DataFrame({'Actual': y_test,'Predicted': y_pred})\n",
        "data_frame"
      ],
      "execution_count": 11,
      "outputs": [
        {
          "output_type": "execute_result",
          "data": {
            "text/html": [
              "<div>\n",
              "<style scoped>\n",
              "    .dataframe tbody tr th:only-of-type {\n",
              "        vertical-align: middle;\n",
              "    }\n",
              "\n",
              "    .dataframe tbody tr th {\n",
              "        vertical-align: top;\n",
              "    }\n",
              "\n",
              "    .dataframe thead th {\n",
              "        text-align: right;\n",
              "    }\n",
              "</style>\n",
              "<table border=\"1\" class=\"dataframe\">\n",
              "  <thead>\n",
              "    <tr style=\"text-align: right;\">\n",
              "      <th></th>\n",
              "      <th>Actual</th>\n",
              "      <th>Predicted</th>\n",
              "    </tr>\n",
              "  </thead>\n",
              "  <tbody>\n",
              "    <tr>\n",
              "      <th>0</th>\n",
              "      <td>20</td>\n",
              "      <td>16.884145</td>\n",
              "    </tr>\n",
              "    <tr>\n",
              "      <th>1</th>\n",
              "      <td>27</td>\n",
              "      <td>33.732261</td>\n",
              "    </tr>\n",
              "    <tr>\n",
              "      <th>2</th>\n",
              "      <td>69</td>\n",
              "      <td>75.357018</td>\n",
              "    </tr>\n",
              "    <tr>\n",
              "      <th>3</th>\n",
              "      <td>30</td>\n",
              "      <td>26.794801</td>\n",
              "    </tr>\n",
              "    <tr>\n",
              "      <th>4</th>\n",
              "      <td>62</td>\n",
              "      <td>60.491033</td>\n",
              "    </tr>\n",
              "  </tbody>\n",
              "</table>\n",
              "</div>"
            ],
            "text/plain": [
              "   Actual  Predicted\n",
              "0      20  16.884145\n",
              "1      27  33.732261\n",
              "2      69  75.357018\n",
              "3      30  26.794801\n",
              "4      62  60.491033"
            ]
          },
          "metadata": {
            "tags": []
          },
          "execution_count": 11
        }
      ]
    },
    {
      "cell_type": "markdown",
      "metadata": {
        "id": "mhWznnxcBF7V",
        "colab_type": "text"
      },
      "source": [
        "Let's plot our regression line with test data:"
      ]
    },
    {
      "cell_type": "code",
      "metadata": {
        "id": "FOo83Hl5BR9p",
        "colab_type": "code",
        "colab": {
          "base_uri": "https://localhost:8080/",
          "height": 295
        },
        "outputId": "b87b43f8-5869-4fff-96ac-a834b55711f8"
      },
      "source": [
        "line=fit.coef_*X+fit.intercept_\n",
        "plt.title(\"Plot of test data with Regression line\")\n",
        "plt.xlabel('Number of hours')\n",
        "plt.ylabel('Scores')\n",
        "plt.scatter(X,y)\n",
        "plt.plot(X,line)\n",
        "plt.show()"
      ],
      "execution_count": 12,
      "outputs": [
        {
          "output_type": "display_data",
          "data": {
            "image/png": "[encoded data removed]",
            "text/plain": [
              "<Figure size 432x288 with 1 Axes>"
            ]
          },
          "metadata": {
            "tags": [],
            "needs_background": "light"
          }
        }
      ]
    },
    {
      "cell_type": "markdown",
      "metadata": {
        "id": "MF_rwSHka5f4",
        "colab_type": "text"
      },
      "source": [
        " **Predict the score if student study for 9.25 hrs in a day**"
      ]
    },
    {
      "cell_type": "code",
      "metadata": {
        "id": "byVsrg5nHA81",
        "colab_type": "code",
        "colab": {
          "base_uri": "https://localhost:8080/",
          "height": 54
        },
        "outputId": "091bf2c5-389e-4d20-b055-dd9ce7b56d26"
      },
      "source": [
        "# Predict the score if student study for 9.25 hrs in a day\n",
        "hours = 9.25\n",
        "pred = fit.coef_*hours+fit.intercept_\n",
        "print(\"Number of hours : \", hours)\n",
        "print(\"Predicted Score : \", pred)"
      ],
      "execution_count": 13,
      "outputs": [
        {
          "output_type": "stream",
          "text": [
            "Number of hours :  9.25\n",
            "Predicted Score :  [93.69173249]\n"
          ],
          "name": "stdout"
        }
      ]
    },
    {
      "cell_type": "markdown",
      "metadata": {
        "id": "pwEuO7IZZczI",
        "colab_type": "text"
      },
      "source": [
        "From above it is predicted that if student studied 9.25 hours then student will score 93.69 percentage."
      ]
    },
    {
      "cell_type": "markdown",
      "metadata": {
        "id": "aWdQYjH9JhXh",
        "colab_type": "text"
      },
      "source": [
        "**Evaluate** **the** **model**"
      ]
    },
    {
      "cell_type": "markdown",
      "metadata": {
        "id": "2mHkOPSiNSVn",
        "colab_type": "text"
      },
      "source": [
        "Once our model fitted, we can get the results to check whether the model works satisfactorily and interpret it."
      ]
    },
    {
      "cell_type": "code",
      "metadata": {
        "id": "iyjceMq9JsrK",
        "colab_type": "code",
        "colab": {
          "base_uri": "https://localhost:8080/",
          "height": 35
        },
        "outputId": "ac134eab-4064-4649-a28c-5ebc40fdbf9e"
      },
      "source": [
        "from sklearn.metrics  import mean_absolute_error\n",
        "print('Mean Absolute Error:', mean_absolute_error(y_test, y_pred)) "
      ],
      "execution_count": null,
      "outputs": [
        {
          "output_type": "stream",
          "text": [
            "Mean Absolute Error: 4.183859899002982\n"
          ],
          "name": "stdout"
        }
      ]
    },
    {
      "cell_type": "code",
      "metadata": {
        "id": "ClxTDX7OqfkA",
        "colab_type": "code",
        "colab": {
          "base_uri": "https://localhost:8080/",
          "height": 35
        },
        "outputId": "84044845-f7a0-4435-f8e2-5661aa3a3001"
      },
      "source": [
        "print('Coefficient of determination: ',model.score(X,y))"
      ],
      "execution_count": null,
      "outputs": [
        {
          "output_type": "stream",
          "text": [
            "Coefficient of determination:  0.9526947647057273\n"
          ],
          "name": "stdout"
        }
      ]
    },
    {
      "cell_type": "markdown",
      "metadata": {
        "id": "5b5ivMt_qgqm",
        "colab_type": "text"
      },
      "source": [
        "**Larger 𝑅² indicates a better fit and means that the model can better explain the variation of the output with different inputs.**"
      ]
    }
  ]
}